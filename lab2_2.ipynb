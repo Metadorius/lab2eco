{
 "cells": [
  {
   "cell_type": "code",
   "execution_count": 6,
   "metadata": {},
   "outputs": [
    {
     "name": "stdout",
     "output_type": "stream",
     "text": [
      "--------------------------------------------------\n",
      "          \"Зміна палива\"  \"Альт. енергетика\"  \"Жорсткі ліміти\"  \\\n",
      "Показник                                                         \n",
      "СД                  0.10                0.25              0.25   \n",
      "ЗН                  0.10                0.30              0.40   \n",
      "ЯЖ                  0.05               -0.05              0.50   \n",
      "\n",
      "          \"Електричні установки\"  \n",
      "Показник                          \n",
      "СД                          0.05  \n",
      "ЗН                          0.10  \n",
      "ЯЖ                          0.00  \n",
      "--------------------------------------------------\n"
     ]
    }
   ],
   "source": [
    "import numpy as np\n",
    "import pandas as pd\n",
    "\n",
    "\n",
    "def comparison_matrix(cases):\n",
    "\n",
    "    element_matrices = []\n",
    "    for row in cases.values:\n",
    "        matrix = np.array([[int(left >= right)\n",
    "                            for right in row] for left in row])\n",
    "        element_matrices.append(matrix)\n",
    "\n",
    "    sum_matrix = sum(element_matrices)\n",
    "\n",
    "    resulting_matrix = np.array(\n",
    "        [[int(elem >= len(cases.values) / 2.)\n",
    "        for elem in row] for row in sum_matrix])\n",
    "\n",
    "    return resulting_matrix, sum_matrix, element_matrices\n",
    "\n",
    "\n",
    "cases = pd.read_csv(\"scenarios.csv\", index_col=0,\n",
    "                    header=0, sep=';', decimal=',')\n",
    "print('--------------------------------------------------')\n",
    "print(cases)\n",
    "print('--------------------------------------------------')\n",
    "resulting_matrix, sum_matrix, element_matrices = comparison_matrix(cases)"
   ]
  },
  {
   "cell_type": "code",
   "execution_count": 7,
   "metadata": {},
   "outputs": [
    {
     "name": "stdout",
     "output_type": "stream",
     "text": [
      "--------------------------------------------------\n",
      "Pair comparison:\n",
      "\n",
      "СД:\n",
      "[[1 0 0 1]\n",
      " [1 1 1 1]\n",
      " [1 1 1 1]\n",
      " [0 0 0 1]]\n",
      "\n",
      "ЗН:\n",
      "[[1 0 0 1]\n",
      " [1 1 0 1]\n",
      " [1 1 1 1]\n",
      " [1 0 0 1]]\n",
      "\n",
      "ЯЖ:\n",
      "[[1 1 0 1]\n",
      " [0 1 0 0]\n",
      " [1 1 1 1]\n",
      " [0 1 0 1]]\n",
      "\n",
      "--------------------------------------------------\n"
     ]
    }
   ],
   "source": [
    "print('--------------------------------------------------')\n",
    "print('Pair comparison:\\n')\n",
    "for i in range(len(cases.index.values)):\n",
    "    print(f'{cases.index.values[i]}:\\n{element_matrices[i]}\\n')\n",
    "    \n",
    "print('--------------------------------------------------')"
   ]
  },
  {
   "cell_type": "code",
   "execution_count": 8,
   "metadata": {},
   "outputs": [
    {
     "name": "stdout",
     "output_type": "stream",
     "text": [
      "--------------------------------------------------\n",
      "Matrices sum:\n",
      "[[3 1 0 3]\n",
      " [2 3 1 2]\n",
      " [3 3 3 3]\n",
      " [1 1 0 3]]\n",
      "\n",
      "Resulting matrix:\n",
      "[[1 0 0 1]\n",
      " [1 1 0 1]\n",
      " [1 1 1 1]\n",
      " [0 0 0 1]]\n",
      "--------------------------------------------------\n"
     ]
    }
   ],
   "source": [
    "print('--------------------------------------------------')\n",
    "print(f'Matrices sum:\\n{sum_matrix}\\n\\nResulting matrix:\\n{resulting_matrix}')\n",
    "print('--------------------------------------------------')"
   ]
  },
  {
   "cell_type": "code",
   "execution_count": 5,
   "metadata": {},
   "outputs": [
    {
     "name": "stdout",
     "output_type": "stream",
     "text": [
      "--------------------------------------------------\n",
      "Scenraios ordered from best to worst:\n",
      "1. \"Жорсткі ліміти\" with 4 point(s)\n",
      "2. \"Альт. енергетика\" with 3 point(s)\n",
      "3. \"Зміна палива\" with 2 point(s)\n",
      "4. \"Електричні установки\" with 1 point(s)\n",
      "--------------------------------------------------\n"
     ]
    }
   ],
   "source": [
    "row_sums = [sum(row) for row in resulting_matrix]\n",
    "sorted_results = sorted(zip(list(cases), row_sums), key=lambda k: k[1], reverse=True)\n",
    "\n",
    "print('--------------------------------------------------')\n",
    "print(f'Scenraios ordered from best to worst:')\n",
    "for i, x in enumerate(sorted_results, 1):\n",
    "    print(f'{i}. {x[0]} with {x[1]} point(s)')\n",
    "print('--------------------------------------------------')"
   ]
  },
  {
   "cell_type": "code",
   "execution_count": null,
   "metadata": {},
   "outputs": [],
   "source": []
  }
 ],
 "metadata": {
  "kernelspec": {
   "display_name": "Python 3",
   "language": "python",
   "name": "python3"
  },
  "language_info": {
   "codemirror_mode": {
    "name": "ipython",
    "version": 3
   },
   "file_extension": ".py",
   "mimetype": "text/x-python",
   "name": "python",
   "nbconvert_exporter": "python",
   "pygments_lexer": "ipython3",
   "version": "3.8.2"
  }
 },
 "nbformat": 4,
 "nbformat_minor": 4
}
