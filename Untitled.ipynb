{
 "cells": [
  {
   "cell_type": "code",
   "execution_count": 19,
   "metadata": {},
   "outputs": [
    {
     "name": "stdout",
     "output_type": "stream",
     "text": [
      "[[ 0  0  1  1  0  0  0  0  0  0  0  0]\n",
      " [ 0  0  0  1  0  0  0  0  0  0  0  0]\n",
      " [ 0  0  0  0  1  0  0  0  0  0  0  0]\n",
      " [ 0  0  0  0  0  1  0  0  0  0  0  0]\n",
      " [ 0  0  0  0  0  0  1  0  1  0  0  0]\n",
      " [ 0  0  0  0  0  0  1  1  1  0  0  0]\n",
      " [ 0  0  0  0  0  0  0  0  0  0 -1  0]\n",
      " [ 0  0  0  0  0  0  0  0  0  0 -1  0]\n",
      " [ 0  0  0  0  0  0  0  0  0 -1  0  0]\n",
      " [ 0  0  0  0  0  0  0  0  0  0  1  0]\n",
      " [ 0  0  0  0  0  0  0  0  0  0  0  1]\n",
      " [ 1  1  0  0  0  0  0  0  0  0  0  0]]\n"
     ]
    }
   ],
   "source": [
    "import numpy as np\n",
    "import pandas as pd\n",
    "\n",
    "def system_over_years(graph, years):\n",
    "    return sum([np.linalg.matrix_power(graph, i) for i in range(years + 1)])\n",
    "        \n",
    "\n",
    "def simulate_impulse(graph, impulses, years):\n",
    "    if len(impulses) != len(graph):\n",
    "        raise ValueError(\"Sizes don't match!\")\n",
    "    \n",
    "    print(system_over_years(graph, years))\n",
    "    return impulses.dot(system_over_years(graph, years))\n",
    "    \n",
    "\n",
    "graph = pd.read_csv('graph.csv', sep=';', header=None).values\n",
    "print(graph)\n",
    "# eval(input('Enter impulse array:'))\n",
    "# years = int(input(\"Enter years to simulate through:\"))\n",
    "# for y in range(1, years + 1):\n",
    "#     print(simulate_impulse(graph, np.array([0.1, 0.2, 0, 0, 0, 0, 0, 0, 0, 0, 0, 0]), y))\n",
    "\n"
   ]
  },
  {
   "cell_type": "code",
   "execution_count": null,
   "metadata": {},
   "outputs": [],
   "source": [
    "def comparison_matrix(cases):\n",
    "\n",
    "    element_matrices = []\n",
    "    for row in cases.values:\n",
    "        matrix = np.array([[int(left >= right) for right in row] for left in row])\n",
    "        element_matrices.append(matrix)\n",
    "        \n",
    "    sum_matrix = sum(element_matrices)\n",
    "    \n",
    "    resulting_matrix = np.array([[int(elem >= len(cases.values)) for elem in s_row] for row in sum_matrix])\n",
    "    \n",
    "    return resulting_matrix, sum_matrix, element_matrices\n",
    "\n",
    "# cases = pd.read_csv(\"cases.csv\", index_col=0, header=0, sep=';', decimal=',')\n"
   ]
  }
 ],
 "metadata": {
  "kernelspec": {
   "display_name": "Python 3",
   "language": "python",
   "name": "python3"
  },
  "language_info": {
   "codemirror_mode": {
    "name": "ipython",
    "version": 3
   },
   "file_extension": ".py",
   "mimetype": "text/x-python",
   "name": "python",
   "nbconvert_exporter": "python",
   "pygments_lexer": "ipython3",
   "version": "3.8.2"
  }
 },
 "nbformat": 4,
 "nbformat_minor": 4
}
