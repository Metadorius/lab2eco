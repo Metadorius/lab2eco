{
 "cells": [
  {
   "cell_type": "code",
   "execution_count": 19,
   "metadata": {},
   "outputs": [
    {
     "name": "stdout",
     "output_type": "stream",
     "text": [
      "    РЕ  РГ  ЗП  ЗО  ЗР  ЗТ  СЗ  СД  ЗН  ЯЖ  ПН  ЕС\n",
      "РЕ   0   0   1   1   0   0   0   0   0   0   0   1\n",
      "РГ   0   0   0   1   0   0   0   0   0   0   0   1\n",
      "ЗП   0   0   0   0   1   0   1   0   0   0   0   0\n",
      "ЗО   0   0   0   0   1   1   1   0   0   0   0   0\n",
      "ЗР   0   0   0   0   0   0   0   0  -1   0   0   0\n",
      "ЗТ   0   0   0   0   0   0   0   0  -1   0   0   0\n",
      "СЗ   0   0   0   0   0   0   0  -1   0   0   0   0\n",
      "СД   0   0   0   0   0   0   0   0   0   1   0   0\n",
      "ЗН   0   0   0   0   0   0   0   0   0   1   0   0\n",
      "ЯЖ   0   0   0   0   0   0   0   0   0   0   1   0\n",
      "ПН   1   1   0   0   0   0   0   0   0   0   0   0\n",
      "ЕС   0   0   0   0   0   0   0   0   0   1   0   0\n",
      "--------------------------------------------------\n",
      "Enter impulse array using Python syntax, like\n",
      "[РЕ, РГ, ЗП, ЗО, ЗР, ЗТ, СЗ, СД, ЗН, ЯЖ, ПН, ЕС]:\n"
     ]
    },
    {
     "name": "stdin",
     "output_type": "stream",
     "text": [
      " [0, 0, 0, -0.05, 0, 0, 0, 0, 0, 0, 0, -0.05]\n",
      "Enter how many years to simulate through: 5\n"
     ]
    }
   ],
   "source": [
    "import numpy as np\n",
    "import pandas as pd\n",
    "\n",
    "def system_over_years(graph, years):\n",
    "    return sum([np.linalg.matrix_power(graph, i) for i in range(years + 1)])\n",
    "        \n",
    "\n",
    "def simulate_impulse(graph, impulses, years):\n",
    "    if len(impulses) != len(graph):\n",
    "        raise ValueError(\"Sizes don't match!\")\n",
    "    \n",
    "    # print(system_over_years(graph, years))\n",
    "    return impulses.dot(system_over_years(graph, years))\n",
    "    \n",
    "\n",
    "graph = pd.read_csv('graph.csv', sep=';', index_col=0, header=0)\n",
    "print(graph)\n",
    "print('--------------------------------------------------')\n",
    "print(f'Enter impulse array using Python syntax, like\\n[{\", \".join(list(graph))}]:')\n",
    "l = eval(input())\n",
    "years = int(input(\"Enter how many years to simulate through:\"))"
   ]
  },
  {
   "cell_type": "code",
   "execution_count": 14,
   "metadata": {},
   "outputs": [
    {
     "name": "stdout",
     "output_type": "stream",
     "text": [
      "--------------------------------------------------\n",
      "\n",
      "A^0+A^1\n",
      "[[ 1  0  1  1  0  0  0  0  0  0  0  1]\n",
      " [ 0  1  0  1  0  0  0  0  0  0  0  1]\n",
      " [ 0  0  1  0  1  0  1  0  0  0  0  0]\n",
      " [ 0  0  0  1  1  1  1  0  0  0  0  0]\n",
      " [ 0  0  0  0  1  0  0  0 -1  0  0  0]\n",
      " [ 0  0  0  0  0  1  0  0 -1  0  0  0]\n",
      " [ 0  0  0  0  0  0  1 -1  0  0  0  0]\n",
      " [ 0  0  0  0  0  0  0  1  0  1  0  0]\n",
      " [ 0  0  0  0  0  0  0  0  1  1  0  0]\n",
      " [ 0  0  0  0  0  0  0  0  0  1  1  0]\n",
      " [ 1  1  0  0  0  0  0  0  0  0  1  0]\n",
      " [ 0  0  0  0  0  0  0  0  0  1  0  1]]\n",
      "\n",
      "A^0+A^1+A^2\n",
      "[[ 1  0  1  1  2  1  2  0  0  1  0  1]\n",
      " [ 0  1  0  1  1  1  1  0  0  1  0  1]\n",
      " [ 0  0  1  0  1  0  1 -1 -1  0  0  0]\n",
      " [ 0  0  0  1  1  1  1 -1 -2  0  0  0]\n",
      " [ 0  0  0  0  1  0  0  0 -1 -1  0  0]\n",
      " [ 0  0  0  0  0  1  0  0 -1 -1  0  0]\n",
      " [ 0  0  0  0  0  0  1 -1  0 -1  0  0]\n",
      " [ 0  0  0  0  0  0  0  1  0  1  1  0]\n",
      " [ 0  0  0  0  0  0  0  0  1  1  1  0]\n",
      " [ 1  1  0  0  0  0  0  0  0  1  1  0]\n",
      " [ 1  1  1  2  0  0  0  0  0  0  1  2]\n",
      " [ 0  0  0  0  0  0  0  0  0  1  1  1]]\n",
      "\n",
      "A^0+A^1+A^2+A^3\n",
      "[[ 1  0  1  1  2  1  2 -2 -3  1  1  1]\n",
      " [ 0  1  0  1  1  1  1 -1 -2  1  1  1]\n",
      " [ 0  0  1  0  1  0  1 -1 -1 -2  0  0]\n",
      " [ 0  0  0  1  1  1  1 -1 -2 -3  0  0]\n",
      " [ 0  0  0  0  1  0  0  0 -1 -1 -1  0]\n",
      " [ 0  0  0  0  0  1  0  0 -1 -1 -1  0]\n",
      " [ 0  0  0  0  0  0  1 -1  0 -1 -1  0]\n",
      " [ 1  1  0  0  0  0  0  1  0  1  1  0]\n",
      " [ 1  1  0  0  0  0  0  0  1  1  1  0]\n",
      " [ 1  1  1  2  0  0  0  0  0  1  1  2]\n",
      " [ 1  1  1  2  3  2  3  0  0  2  1  2]\n",
      " [ 1  1  0  0  0  0  0  0  0  1  1  1]]\n",
      "\n",
      "A^0+A^1+A^2+A^3+A^4\n",
      "[[ 2  1  1  1  2  1  2 -2 -3 -4  1  1]\n",
      " [ 1  2  0  1  1  1  1 -1 -2 -2  1  1]\n",
      " [ 0  0  1  0  1  0  1 -1 -1 -2 -2  0]\n",
      " [ 0  0  0  1  1  1  1 -1 -2 -3 -3  0]\n",
      " [-1 -1  0  0  1  0  0  0 -1 -1 -1  0]\n",
      " [-1 -1  0  0  0  1  0  0 -1 -1 -1  0]\n",
      " [-1 -1  0  0  0  0  1 -1  0 -1 -1  0]\n",
      " [ 1  1  1  2  0  0  0  1  0  1  1  2]\n",
      " [ 1  1  1  2  0  0  0  0  1  1  1  2]\n",
      " [ 1  1  1  2  3  2  3  0  0  3  1  2]\n",
      " [ 1  1  1  2  3  2  3 -3 -5  2  3  2]\n",
      " [ 1  1  1  2  0  0  0  0  0  1  1  3]]\n",
      "\n",
      "A^0+A^1+A^2+A^3+A^4+A^5\n",
      "[[ 2  1  2  3  2  1  2 -2 -3 -4 -4  3]\n",
      " [ 1  2  1  3  1  1  1 -1 -2 -2 -2  3]\n",
      " [-2 -2  1  0  1  0  1 -1 -1 -2 -2  0]\n",
      " [-3 -3  0  1  1  1  1 -1 -2 -3 -3  0]\n",
      " [-1 -1 -1 -2  1  0  0  0 -1 -1 -1 -2]\n",
      " [-1 -1 -1 -2  0  1  0  0 -1 -1 -1 -2]\n",
      " [-1 -1 -1 -2  0  0  1 -1  0 -1 -1 -2]\n",
      " [ 1  1  1  2  3  2  3  1  0  3  1  2]\n",
      " [ 1  1  1  2  3  2  3  0  1  3  1  2]\n",
      " [ 1  1  1  2  3  2  3 -3 -5  3  3  2]\n",
      " [ 3  3  1  2  3  2  3 -3 -5 -6  3  2]\n",
      " [ 1  1  1  2  3  2  3  0  0  3  1  3]]\n",
      "\n"
     ]
    }
   ],
   "source": [
    "print('--------------------------------------------------')\n",
    "print()\n",
    "for i in range(1, years + 1):\n",
    "    s = '+'.join([f'A^{j}' for j in range(i + 1)])\n",
    "    print(f\"{s}\\n{system_over_years(graph, i)}\\n\")"
   ]
  },
  {
   "cell_type": "code",
   "execution_count": 20,
   "metadata": {},
   "outputs": [
    {
     "name": "stdout",
     "output_type": "stream",
     "text": [
      "--------------------------------------------------\n",
      "Development of the system over years:\n",
      "\n",
      "        РЕ    РГ    ЗП    ЗО    ЗР    ЗТ    СЗ    СД   ЗН    ЯЖ    ПН    ЕС\n",
      "year                                                                       \n",
      "0     0.00  0.00  0.00 -0.05  0.00  0.00  0.00  0.00  0.0  0.00  0.00 -0.05\n",
      "1     0.00  0.00  0.00 -0.05 -0.05 -0.05 -0.05  0.00  0.0 -0.05  0.00 -0.05\n",
      "2     0.00  0.00  0.00 -0.05 -0.05 -0.05 -0.05  0.05  0.1 -0.05 -0.05 -0.05\n",
      "3    -0.05 -0.05  0.00 -0.05 -0.05 -0.05 -0.05  0.05  0.1  0.10 -0.05 -0.05\n",
      "4    -0.05 -0.05 -0.05 -0.15 -0.05 -0.05 -0.05  0.05  0.1  0.10  0.10 -0.15\n",
      "5     0.10  0.10 -0.05 -0.15 -0.20 -0.15 -0.20  0.05  0.1  0.00  0.10 -0.15\n"
     ]
    }
   ],
   "source": [
    "print('--------------------------------------------------')\n",
    "print(\"Development of the system over years:\\n\")\n",
    "\n",
    "states_lists = [simulate_impulse(graph, np.array(l), i) for i in range(years + 1)]\n",
    "states_df = pd.DataFrame(states_lists, columns=graph.columns)\n",
    "states_df.index.rename('year', inplace=True)\n",
    "print(states_df)"
   ]
  },
  {
   "cell_type": "code",
   "execution_count": null,
   "metadata": {},
   "outputs": [],
   "source": []
  }
 ],
 "metadata": {
  "kernelspec": {
   "display_name": "Python 3",
   "language": "python",
   "name": "python3"
  },
  "language_info": {
   "codemirror_mode": {
    "name": "ipython",
    "version": 3
   },
   "file_extension": ".py",
   "mimetype": "text/x-python",
   "name": "python",
   "nbconvert_exporter": "python",
   "pygments_lexer": "ipython3",
   "version": "3.8.2"
  }
 },
 "nbformat": 4,
 "nbformat_minor": 4
}
