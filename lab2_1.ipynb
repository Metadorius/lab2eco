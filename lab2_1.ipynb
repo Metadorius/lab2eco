{
 "cells": [
  {
   "cell_type": "code",
   "execution_count": 1,
   "metadata": {},
   "outputs": [
    {
     "name": "stdout",
     "output_type": "stream",
     "text": [
      "    РЕ  РГ  ЗП  ЗО  ІВ  ПЗ  ВЗ  ЗР  ЗТ  ЕС  ЗН  ПН\n",
      "РЕ   0   0   1   1   1   0   0   0   0   0   0   0\n",
      "РГ   0   0   0   1   1   0   0   0   0   0   0   0\n",
      "ЗП   0   0   0   0   0   1   0   1   0   0   0   0\n",
      "ЗО   0   0   0   0   0   1   0   1   1   0   0   0\n",
      "ІВ   0   0   0   0   0   1   1   0   0   0   0   0\n",
      "ПЗ   0   0   0   0   0   0   1   0   0  -1   0   0\n",
      "ВЗ   0   0   0   0   0   0   0   1   1  -1   0   0\n",
      "ЗР   0   0   0   0   0   0   0   0   0   0  -1   0\n",
      "ЗТ   0   0   0   0   0   0   0   0   0   0  -1   0\n",
      "ЕС   0   0   0   0   0   0   0   0   0   0   1   0\n",
      "ЗН   0   0   0   0   0   0   0   0   0   0   0   1\n",
      "ПН   1   1   0   0   0   0   0   0   0   0   0   0\n",
      "--------------------------------------------------\n",
      "Enter impulse array using Python syntax, like\n",
      "[РЕ, РГ, ЗП, ЗО, ІВ, ПЗ, ВЗ, ЗР, ЗТ, ЕС, ЗН, ПН]:\n"
     ]
    },
    {
     "name": "stdin",
     "output_type": "stream",
     "text": [
      " [-0.05, 0, 0, 0, 0, 0, 0, 0, 0, 0, 0, 0]\n",
      "Enter how many years to simulate through: 5\n"
     ]
    }
   ],
   "source": [
    "import numpy as np\n",
    "import pandas as pd\n",
    "\n",
    "def system_over_years(graph, years):\n",
    "    return sum([np.linalg.matrix_power(graph, i) for i in range(years + 1)])\n",
    "        \n",
    "\n",
    "def simulate_impulse(graph, impulses, years):\n",
    "    if len(impulses) != len(graph):\n",
    "        raise ValueError(\"Sizes don't match!\")\n",
    "    \n",
    "    # print(system_over_years(graph, years))\n",
    "    return impulses.dot(system_over_years(graph, years))\n",
    "    \n",
    "\n",
    "graph = pd.read_csv('graph.csv', sep=';', index_col=0, header=0)\n",
    "print(graph)\n",
    "print('--------------------------------------------------')\n",
    "print(f'Enter impulse array using Python syntax, like\\n[{\", \".join(list(graph))}]:')\n",
    "l = eval(input())\n",
    "years = int(input(\"Enter how many years to simulate through:\"))"
   ]
  },
  {
   "cell_type": "code",
   "execution_count": 2,
   "metadata": {},
   "outputs": [
    {
     "name": "stdout",
     "output_type": "stream",
     "text": [
      "--------------------------------------------------\n",
      "\n",
      "A^0+A^1\n",
      "[[ 1  0  1  1  1  0  0  0  0  0  0  0]\n",
      " [ 0  1  0  1  1  0  0  0  0  0  0  0]\n",
      " [ 0  0  1  0  0  1  0  1  0  0  0  0]\n",
      " [ 0  0  0  1  0  1  0  1  1  0  0  0]\n",
      " [ 0  0  0  0  1  1  1  0  0  0  0  0]\n",
      " [ 0  0  0  0  0  1  1  0  0 -1  0  0]\n",
      " [ 0  0  0  0  0  0  1  1  1 -1  0  0]\n",
      " [ 0  0  0  0  0  0  0  1  0  0 -1  0]\n",
      " [ 0  0  0  0  0  0  0  0  1  0 -1  0]\n",
      " [ 0  0  0  0  0  0  0  0  0  1  1  0]\n",
      " [ 0  0  0  0  0  0  0  0  0  0  1  1]\n",
      " [ 1  1  0  0  0  0  0  0  0  0  0  1]]\n",
      "\n",
      "A^0+A^1+A^2\n",
      "[[ 1  0  1  1  1  3  1  2  1  0  0  0]\n",
      " [ 0  1  0  1  1  2  1  1  1  0  0  0]\n",
      " [ 0  0  1  0  0  1  1  1  0 -1 -1  0]\n",
      " [ 0  0  0  1  0  1  1  1  1 -1 -2  0]\n",
      " [ 0  0  0  0  1  1  2  1  1 -2  0  0]\n",
      " [ 0  0  0  0  0  1  1  1  1 -2 -1  0]\n",
      " [ 0  0  0  0  0  0  1  1  1 -1 -3  0]\n",
      " [ 0  0  0  0  0  0  0  1  0  0 -1 -1]\n",
      " [ 0  0  0  0  0  0  0  0  1  0 -1 -1]\n",
      " [ 0  0  0  0  0  0  0  0  0  1  1  1]\n",
      " [ 1  1  0  0  0  0  0  0  0  0  1  1]\n",
      " [ 1  1  1  2  2  0  0  0  0  0  0  1]]\n",
      "\n",
      "A^0+A^1+A^2+A^3\n",
      "[[ 1  0  1  1  1  3  4  3  2 -4 -3  0]\n",
      " [ 0  1  0  1  1  2  3  2  2 -3 -2  0]\n",
      " [ 0  0  1  0  0  1  1  2  1 -2 -2 -1]\n",
      " [ 0  0  0  1  0  1  1  2  2 -2 -3 -2]\n",
      " [ 0  0  0  0  1  1  2  2  2 -3 -4  0]\n",
      " [ 0  0  0  0  0  1  1  1  1 -2 -4 -1]\n",
      " [ 0  0  0  0  0  0  1  1  1 -1 -3 -3]\n",
      " [-1 -1  0  0  0  0  0  1  0  0 -1 -1]\n",
      " [-1 -1  0  0  0  0  0  0  1  0 -1 -1]\n",
      " [ 1  1  0  0  0  0  0  0  0  1  1  1]\n",
      " [ 1  1  1  2  2  0  0  0  0  0  1  1]\n",
      " [ 1  1  1  2  2  5  2  3  2  0  0  1]]\n",
      "\n",
      "A^0+A^1+A^2+A^3+A^4\n",
      "[[ 1  0  1  1  1  3  4  6  5 -7 -9 -3]\n",
      " [ 0  1  0  1  1  2  3  4  4 -5 -7 -2]\n",
      " [-1 -1  1  0  0  1  1  2  1 -2 -5 -2]\n",
      " [-2 -2  0  1  0  1  1  2  2 -2 -6 -3]\n",
      " [ 0  0  0  0  1  1  2  2  2 -3 -7 -4]\n",
      " [-1 -1  0  0  0  1  1  1  1 -2 -4 -4]\n",
      " [-3 -3  0  0  0  0  1  1  1 -1 -3 -3]\n",
      " [-1 -1 -1 -2 -2  0  0  1  0  0 -1 -1]\n",
      " [-1 -1 -1 -2 -2  0  0  0  1  0 -1 -1]\n",
      " [ 1  1  1  2  2  0  0  0  0  1  1  1]\n",
      " [ 1  1  1  2  2  5  2  3  2  0  1  1]\n",
      " [ 1  1  1  2  2  5  7  5  4 -7 -5  1]]\n",
      "\n",
      "A^0+A^1+A^2+A^3+A^4+A^5\n",
      "[[ -2  -3   1   1   1   3   4   6   5  -7 -18  -9]\n",
      " [ -2  -1   0   1   1   2   3   4   4  -5 -13  -7]\n",
      " [ -2  -2   0  -2  -2   1   1   2   1  -2  -5  -5]\n",
      " [ -3  -3  -2  -3  -4   1   1   2   2  -2  -6  -6]\n",
      " [ -4  -4   0   0   1   1   2   2   2  -3  -7  -7]\n",
      " [ -4  -4  -1  -2  -2   1   1   1   1  -2  -4  -4]\n",
      " [ -3  -3  -3  -6  -6   0   1   1   1  -1  -3  -3]\n",
      " [ -1  -1  -1  -2  -2  -5  -2  -2  -2   0  -1  -1]\n",
      " [ -1  -1  -1  -2  -2  -5  -2  -3  -1   0  -1  -1]\n",
      " [  1   1   1   2   2   5   2   3   2   1   1   1]\n",
      " [  1   1   1   2   2   5   7   5   4  -7  -4   1]\n",
      " [  1   1   1   2   2   5   7  10   9 -12 -16  -4]]\n",
      "\n"
     ]
    }
   ],
   "source": [
    "print('--------------------------------------------------')\n",
    "print()\n",
    "for i in range(1, years + 1):\n",
    "    s = '+'.join([f'A^{j}' for j in range(i + 1)])\n",
    "    print(f\"{s}\\n{system_over_years(graph, i)}\\n\")"
   ]
  },
  {
   "cell_type": "code",
   "execution_count": 2,
   "metadata": {},
   "outputs": [
    {
     "name": "stdout",
     "output_type": "stream",
     "text": [
      "--------------------------------------------------\n",
      "Development of the system over years:\n",
      "\n",
      "        РЕ    РГ    ЗП    ЗО    ІВ    ПЗ    ВЗ    ЗР    ЗТ    ЕС    ЗН    ПН\n",
      "year                                                                        \n",
      "0    -0.05  0.00  0.00  0.00  0.00  0.00  0.00  0.00  0.00  0.00  0.00  0.00\n",
      "1    -0.05  0.00 -0.05 -0.05 -0.05  0.00  0.00  0.00  0.00  0.00  0.00  0.00\n",
      "2    -0.05  0.00 -0.05 -0.05 -0.05 -0.15 -0.05 -0.10 -0.05  0.00  0.00  0.00\n",
      "3    -0.05  0.00 -0.05 -0.05 -0.05 -0.15 -0.20 -0.15 -0.10  0.20  0.15  0.00\n",
      "4    -0.05  0.00 -0.05 -0.05 -0.05 -0.15 -0.20 -0.30 -0.25  0.35  0.45  0.15\n",
      "5     0.10  0.15 -0.05 -0.05 -0.05 -0.15 -0.20 -0.30 -0.25  0.35  0.90  0.45\n"
     ]
    }
   ],
   "source": [
    "print('--------------------------------------------------')\n",
    "print(\"Development of the system over years:\\n\")\n",
    "\n",
    "states_lists = [simulate_impulse(graph, np.array(l), i) for i in range(years + 1)]\n",
    "states_df = pd.DataFrame(states_lists, columns=graph.columns)\n",
    "states_df.index.rename('year', inplace=True)\n",
    "print(states_df)"
   ]
  },
  {
   "cell_type": "code",
   "execution_count": null,
   "metadata": {},
   "outputs": [],
   "source": []
  }
 ],
 "metadata": {
  "kernelspec": {
   "display_name": "Python 3",
   "language": "python",
   "name": "python3"
  },
  "language_info": {
   "codemirror_mode": {
    "name": "ipython",
    "version": 3
   },
   "file_extension": ".py",
   "mimetype": "text/x-python",
   "name": "python",
   "nbconvert_exporter": "python",
   "pygments_lexer": "ipython3",
   "version": "3.8.2"
  }
 },
 "nbformat": 4,
 "nbformat_minor": 4
}
